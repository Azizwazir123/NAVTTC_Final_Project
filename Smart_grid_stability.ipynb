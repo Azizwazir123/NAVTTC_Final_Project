{
  "cells": [
    {
      "cell_type": "markdown",
      "id": "325fe18c",
      "metadata": {
        "papermill": {
          "duration": 0.010077,
          "end_time": "2024-02-19T16:11:50.296196",
          "exception": false,
          "start_time": "2024-02-19T16:11:50.286119",
          "status": "completed"
        },
        "tags": [],
        "id": "325fe18c"
      },
      "source": [
        "# Comparative Analysis of Machine Learning Models for Predicting Smart Grid Stability"
      ]
    },
    {
      "cell_type": "code",
      "execution_count": 13,
      "id": "0e287372",
      "metadata": {
        "execution": {
          "iopub.execute_input": "2024-02-19T16:11:50.316990Z",
          "iopub.status.busy": "2024-02-19T16:11:50.316516Z",
          "iopub.status.idle": "2024-02-19T16:11:51.771401Z",
          "shell.execute_reply": "2024-02-19T16:11:51.770002Z"
        },
        "papermill": {
          "duration": 1.468746,
          "end_time": "2024-02-19T16:11:51.774279",
          "exception": false,
          "start_time": "2024-02-19T16:11:50.305533",
          "status": "completed"
        },
        "tags": [],
        "id": "0e287372"
      },
      "outputs": [],
      "source": [
        "import numpy as np\n",
        "import pandas as pd\n",
        "import joblib\n",
        "df = pd.read_csv(\"/content/smart_grid_stability.csv\")"
      ]
    },
    {
      "cell_type": "code",
      "execution_count": 2,
      "id": "8c78f702",
      "metadata": {
        "execution": {
          "iopub.execute_input": "2024-02-19T16:11:51.794946Z",
          "iopub.status.busy": "2024-02-19T16:11:51.794482Z",
          "iopub.status.idle": "2024-02-19T16:11:54.185899Z",
          "shell.execute_reply": "2024-02-19T16:11:54.184771Z"
        },
        "papermill": {
          "duration": 2.405573,
          "end_time": "2024-02-19T16:11:54.189189",
          "exception": false,
          "start_time": "2024-02-19T16:11:51.783616",
          "status": "completed"
        },
        "tags": [],
        "id": "8c78f702"
      },
      "outputs": [],
      "source": [
        "import matplotlib.pyplot as plt\n",
        "import seaborn as sns\n",
        "from sklearn.model_selection import train_test_split\n",
        "from sklearn.ensemble import RandomForestClassifier\n",
        "from sklearn.metrics import accuracy_score, classification_report\n",
        "from sklearn.preprocessing import LabelEncoder\n",
        "from sklearn.tree import DecisionTreeClassifier\n",
        "from sklearn.svm import SVC\n",
        "from sklearn.ensemble import GradientBoostingClassifier\n"
      ]
    },
    {
      "cell_type": "code",
      "execution_count": 3,
      "id": "95278a48",
      "metadata": {
        "execution": {
          "iopub.execute_input": "2024-02-19T16:11:54.226819Z",
          "iopub.status.busy": "2024-02-19T16:11:54.225115Z",
          "iopub.status.idle": "2024-02-19T16:11:54.260787Z",
          "shell.execute_reply": "2024-02-19T16:11:54.259220Z"
        },
        "papermill": {
          "duration": 0.060346,
          "end_time": "2024-02-19T16:11:54.263743",
          "exception": false,
          "start_time": "2024-02-19T16:11:54.203397",
          "status": "completed"
        },
        "tags": [],
        "colab": {
          "base_uri": "https://localhost:8080/",
          "height": 226
        },
        "id": "95278a48",
        "outputId": "5a70c1c4-d106-466c-b837-9ef019e25ff0"
      },
      "outputs": [
        {
          "output_type": "execute_result",
          "data": {
            "text/plain": [
              "       tau1      tau2      tau3      tau4        p1        p2        p3  \\\n",
              "0  2.959060  3.079885  8.381025  9.780754  3.763085 -0.782604 -1.257395   \n",
              "1  9.304097  4.902524  3.047541  1.369357  5.067812 -1.940058 -1.872742   \n",
              "2  8.971707  8.848428  3.046479  1.214518  3.405158 -1.207456 -1.277210   \n",
              "3  0.716415  7.669600  4.486641  2.340563  3.963791 -1.027473 -1.938944   \n",
              "4  3.134112  7.608772  4.943759  9.857573  3.525811 -1.125531 -1.845975   \n",
              "\n",
              "         p4        g1        g2        g3        g4      stab     stabf  \n",
              "0 -1.723086  0.650456  0.859578  0.887445  0.958034  0.055347  unstable  \n",
              "1 -1.255012  0.413441  0.862414  0.562139  0.781760 -0.005957    stable  \n",
              "2 -0.920492  0.163041  0.766689  0.839444  0.109853  0.003471  unstable  \n",
              "3 -0.997374  0.446209  0.976744  0.929381  0.362718  0.028871  unstable  \n",
              "4 -0.554305  0.797110  0.455450  0.656947  0.820923  0.049860  unstable  "
            ],
            "text/html": [
              "\n",
              "  <div id=\"df-1ce7d672-ccce-4675-8799-8bbbcf20c581\" class=\"colab-df-container\">\n",
              "    <div>\n",
              "<style scoped>\n",
              "    .dataframe tbody tr th:only-of-type {\n",
              "        vertical-align: middle;\n",
              "    }\n",
              "\n",
              "    .dataframe tbody tr th {\n",
              "        vertical-align: top;\n",
              "    }\n",
              "\n",
              "    .dataframe thead th {\n",
              "        text-align: right;\n",
              "    }\n",
              "</style>\n",
              "<table border=\"1\" class=\"dataframe\">\n",
              "  <thead>\n",
              "    <tr style=\"text-align: right;\">\n",
              "      <th></th>\n",
              "      <th>tau1</th>\n",
              "      <th>tau2</th>\n",
              "      <th>tau3</th>\n",
              "      <th>tau4</th>\n",
              "      <th>p1</th>\n",
              "      <th>p2</th>\n",
              "      <th>p3</th>\n",
              "      <th>p4</th>\n",
              "      <th>g1</th>\n",
              "      <th>g2</th>\n",
              "      <th>g3</th>\n",
              "      <th>g4</th>\n",
              "      <th>stab</th>\n",
              "      <th>stabf</th>\n",
              "    </tr>\n",
              "  </thead>\n",
              "  <tbody>\n",
              "    <tr>\n",
              "      <th>0</th>\n",
              "      <td>2.959060</td>\n",
              "      <td>3.079885</td>\n",
              "      <td>8.381025</td>\n",
              "      <td>9.780754</td>\n",
              "      <td>3.763085</td>\n",
              "      <td>-0.782604</td>\n",
              "      <td>-1.257395</td>\n",
              "      <td>-1.723086</td>\n",
              "      <td>0.650456</td>\n",
              "      <td>0.859578</td>\n",
              "      <td>0.887445</td>\n",
              "      <td>0.958034</td>\n",
              "      <td>0.055347</td>\n",
              "      <td>unstable</td>\n",
              "    </tr>\n",
              "    <tr>\n",
              "      <th>1</th>\n",
              "      <td>9.304097</td>\n",
              "      <td>4.902524</td>\n",
              "      <td>3.047541</td>\n",
              "      <td>1.369357</td>\n",
              "      <td>5.067812</td>\n",
              "      <td>-1.940058</td>\n",
              "      <td>-1.872742</td>\n",
              "      <td>-1.255012</td>\n",
              "      <td>0.413441</td>\n",
              "      <td>0.862414</td>\n",
              "      <td>0.562139</td>\n",
              "      <td>0.781760</td>\n",
              "      <td>-0.005957</td>\n",
              "      <td>stable</td>\n",
              "    </tr>\n",
              "    <tr>\n",
              "      <th>2</th>\n",
              "      <td>8.971707</td>\n",
              "      <td>8.848428</td>\n",
              "      <td>3.046479</td>\n",
              "      <td>1.214518</td>\n",
              "      <td>3.405158</td>\n",
              "      <td>-1.207456</td>\n",
              "      <td>-1.277210</td>\n",
              "      <td>-0.920492</td>\n",
              "      <td>0.163041</td>\n",
              "      <td>0.766689</td>\n",
              "      <td>0.839444</td>\n",
              "      <td>0.109853</td>\n",
              "      <td>0.003471</td>\n",
              "      <td>unstable</td>\n",
              "    </tr>\n",
              "    <tr>\n",
              "      <th>3</th>\n",
              "      <td>0.716415</td>\n",
              "      <td>7.669600</td>\n",
              "      <td>4.486641</td>\n",
              "      <td>2.340563</td>\n",
              "      <td>3.963791</td>\n",
              "      <td>-1.027473</td>\n",
              "      <td>-1.938944</td>\n",
              "      <td>-0.997374</td>\n",
              "      <td>0.446209</td>\n",
              "      <td>0.976744</td>\n",
              "      <td>0.929381</td>\n",
              "      <td>0.362718</td>\n",
              "      <td>0.028871</td>\n",
              "      <td>unstable</td>\n",
              "    </tr>\n",
              "    <tr>\n",
              "      <th>4</th>\n",
              "      <td>3.134112</td>\n",
              "      <td>7.608772</td>\n",
              "      <td>4.943759</td>\n",
              "      <td>9.857573</td>\n",
              "      <td>3.525811</td>\n",
              "      <td>-1.125531</td>\n",
              "      <td>-1.845975</td>\n",
              "      <td>-0.554305</td>\n",
              "      <td>0.797110</td>\n",
              "      <td>0.455450</td>\n",
              "      <td>0.656947</td>\n",
              "      <td>0.820923</td>\n",
              "      <td>0.049860</td>\n",
              "      <td>unstable</td>\n",
              "    </tr>\n",
              "  </tbody>\n",
              "</table>\n",
              "</div>\n",
              "    <div class=\"colab-df-buttons\">\n",
              "\n",
              "  <div class=\"colab-df-container\">\n",
              "    <button class=\"colab-df-convert\" onclick=\"convertToInteractive('df-1ce7d672-ccce-4675-8799-8bbbcf20c581')\"\n",
              "            title=\"Convert this dataframe to an interactive table.\"\n",
              "            style=\"display:none;\">\n",
              "\n",
              "  <svg xmlns=\"http://www.w3.org/2000/svg\" height=\"24px\" viewBox=\"0 -960 960 960\">\n",
              "    <path d=\"M120-120v-720h720v720H120Zm60-500h600v-160H180v160Zm220 220h160v-160H400v160Zm0 220h160v-160H400v160ZM180-400h160v-160H180v160Zm440 0h160v-160H620v160ZM180-180h160v-160H180v160Zm440 0h160v-160H620v160Z\"/>\n",
              "  </svg>\n",
              "    </button>\n",
              "\n",
              "  <style>\n",
              "    .colab-df-container {\n",
              "      display:flex;\n",
              "      gap: 12px;\n",
              "    }\n",
              "\n",
              "    .colab-df-convert {\n",
              "      background-color: #E8F0FE;\n",
              "      border: none;\n",
              "      border-radius: 50%;\n",
              "      cursor: pointer;\n",
              "      display: none;\n",
              "      fill: #1967D2;\n",
              "      height: 32px;\n",
              "      padding: 0 0 0 0;\n",
              "      width: 32px;\n",
              "    }\n",
              "\n",
              "    .colab-df-convert:hover {\n",
              "      background-color: #E2EBFA;\n",
              "      box-shadow: 0px 1px 2px rgba(60, 64, 67, 0.3), 0px 1px 3px 1px rgba(60, 64, 67, 0.15);\n",
              "      fill: #174EA6;\n",
              "    }\n",
              "\n",
              "    .colab-df-buttons div {\n",
              "      margin-bottom: 4px;\n",
              "    }\n",
              "\n",
              "    [theme=dark] .colab-df-convert {\n",
              "      background-color: #3B4455;\n",
              "      fill: #D2E3FC;\n",
              "    }\n",
              "\n",
              "    [theme=dark] .colab-df-convert:hover {\n",
              "      background-color: #434B5C;\n",
              "      box-shadow: 0px 1px 3px 1px rgba(0, 0, 0, 0.15);\n",
              "      filter: drop-shadow(0px 1px 2px rgba(0, 0, 0, 0.3));\n",
              "      fill: #FFFFFF;\n",
              "    }\n",
              "  </style>\n",
              "\n",
              "    <script>\n",
              "      const buttonEl =\n",
              "        document.querySelector('#df-1ce7d672-ccce-4675-8799-8bbbcf20c581 button.colab-df-convert');\n",
              "      buttonEl.style.display =\n",
              "        google.colab.kernel.accessAllowed ? 'block' : 'none';\n",
              "\n",
              "      async function convertToInteractive(key) {\n",
              "        const element = document.querySelector('#df-1ce7d672-ccce-4675-8799-8bbbcf20c581');\n",
              "        const dataTable =\n",
              "          await google.colab.kernel.invokeFunction('convertToInteractive',\n",
              "                                                    [key], {});\n",
              "        if (!dataTable) return;\n",
              "\n",
              "        const docLinkHtml = 'Like what you see? Visit the ' +\n",
              "          '<a target=\"_blank\" href=https://colab.research.google.com/notebooks/data_table.ipynb>data table notebook</a>'\n",
              "          + ' to learn more about interactive tables.';\n",
              "        element.innerHTML = '';\n",
              "        dataTable['output_type'] = 'display_data';\n",
              "        await google.colab.output.renderOutput(dataTable, element);\n",
              "        const docLink = document.createElement('div');\n",
              "        docLink.innerHTML = docLinkHtml;\n",
              "        element.appendChild(docLink);\n",
              "      }\n",
              "    </script>\n",
              "  </div>\n",
              "\n",
              "\n",
              "    <div id=\"df-be194049-0fd8-451d-ae3b-e062081c481c\">\n",
              "      <button class=\"colab-df-quickchart\" onclick=\"quickchart('df-be194049-0fd8-451d-ae3b-e062081c481c')\"\n",
              "                title=\"Suggest charts\"\n",
              "                style=\"display:none;\">\n",
              "\n",
              "<svg xmlns=\"http://www.w3.org/2000/svg\" height=\"24px\"viewBox=\"0 0 24 24\"\n",
              "     width=\"24px\">\n",
              "    <g>\n",
              "        <path d=\"M19 3H5c-1.1 0-2 .9-2 2v14c0 1.1.9 2 2 2h14c1.1 0 2-.9 2-2V5c0-1.1-.9-2-2-2zM9 17H7v-7h2v7zm4 0h-2V7h2v10zm4 0h-2v-4h2v4z\"/>\n",
              "    </g>\n",
              "</svg>\n",
              "      </button>\n",
              "\n",
              "<style>\n",
              "  .colab-df-quickchart {\n",
              "      --bg-color: #E8F0FE;\n",
              "      --fill-color: #1967D2;\n",
              "      --hover-bg-color: #E2EBFA;\n",
              "      --hover-fill-color: #174EA6;\n",
              "      --disabled-fill-color: #AAA;\n",
              "      --disabled-bg-color: #DDD;\n",
              "  }\n",
              "\n",
              "  [theme=dark] .colab-df-quickchart {\n",
              "      --bg-color: #3B4455;\n",
              "      --fill-color: #D2E3FC;\n",
              "      --hover-bg-color: #434B5C;\n",
              "      --hover-fill-color: #FFFFFF;\n",
              "      --disabled-bg-color: #3B4455;\n",
              "      --disabled-fill-color: #666;\n",
              "  }\n",
              "\n",
              "  .colab-df-quickchart {\n",
              "    background-color: var(--bg-color);\n",
              "    border: none;\n",
              "    border-radius: 50%;\n",
              "    cursor: pointer;\n",
              "    display: none;\n",
              "    fill: var(--fill-color);\n",
              "    height: 32px;\n",
              "    padding: 0;\n",
              "    width: 32px;\n",
              "  }\n",
              "\n",
              "  .colab-df-quickchart:hover {\n",
              "    background-color: var(--hover-bg-color);\n",
              "    box-shadow: 0 1px 2px rgba(60, 64, 67, 0.3), 0 1px 3px 1px rgba(60, 64, 67, 0.15);\n",
              "    fill: var(--button-hover-fill-color);\n",
              "  }\n",
              "\n",
              "  .colab-df-quickchart-complete:disabled,\n",
              "  .colab-df-quickchart-complete:disabled:hover {\n",
              "    background-color: var(--disabled-bg-color);\n",
              "    fill: var(--disabled-fill-color);\n",
              "    box-shadow: none;\n",
              "  }\n",
              "\n",
              "  .colab-df-spinner {\n",
              "    border: 2px solid var(--fill-color);\n",
              "    border-color: transparent;\n",
              "    border-bottom-color: var(--fill-color);\n",
              "    animation:\n",
              "      spin 1s steps(1) infinite;\n",
              "  }\n",
              "\n",
              "  @keyframes spin {\n",
              "    0% {\n",
              "      border-color: transparent;\n",
              "      border-bottom-color: var(--fill-color);\n",
              "      border-left-color: var(--fill-color);\n",
              "    }\n",
              "    20% {\n",
              "      border-color: transparent;\n",
              "      border-left-color: var(--fill-color);\n",
              "      border-top-color: var(--fill-color);\n",
              "    }\n",
              "    30% {\n",
              "      border-color: transparent;\n",
              "      border-left-color: var(--fill-color);\n",
              "      border-top-color: var(--fill-color);\n",
              "      border-right-color: var(--fill-color);\n",
              "    }\n",
              "    40% {\n",
              "      border-color: transparent;\n",
              "      border-right-color: var(--fill-color);\n",
              "      border-top-color: var(--fill-color);\n",
              "    }\n",
              "    60% {\n",
              "      border-color: transparent;\n",
              "      border-right-color: var(--fill-color);\n",
              "    }\n",
              "    80% {\n",
              "      border-color: transparent;\n",
              "      border-right-color: var(--fill-color);\n",
              "      border-bottom-color: var(--fill-color);\n",
              "    }\n",
              "    90% {\n",
              "      border-color: transparent;\n",
              "      border-bottom-color: var(--fill-color);\n",
              "    }\n",
              "  }\n",
              "</style>\n",
              "\n",
              "      <script>\n",
              "        async function quickchart(key) {\n",
              "          const quickchartButtonEl =\n",
              "            document.querySelector('#' + key + ' button');\n",
              "          quickchartButtonEl.disabled = true;  // To prevent multiple clicks.\n",
              "          quickchartButtonEl.classList.add('colab-df-spinner');\n",
              "          try {\n",
              "            const charts = await google.colab.kernel.invokeFunction(\n",
              "                'suggestCharts', [key], {});\n",
              "          } catch (error) {\n",
              "            console.error('Error during call to suggestCharts:', error);\n",
              "          }\n",
              "          quickchartButtonEl.classList.remove('colab-df-spinner');\n",
              "          quickchartButtonEl.classList.add('colab-df-quickchart-complete');\n",
              "        }\n",
              "        (() => {\n",
              "          let quickchartButtonEl =\n",
              "            document.querySelector('#df-be194049-0fd8-451d-ae3b-e062081c481c button');\n",
              "          quickchartButtonEl.style.display =\n",
              "            google.colab.kernel.accessAllowed ? 'block' : 'none';\n",
              "        })();\n",
              "      </script>\n",
              "    </div>\n",
              "\n",
              "    </div>\n",
              "  </div>\n"
            ],
            "application/vnd.google.colaboratory.intrinsic+json": {
              "type": "dataframe",
              "variable_name": "df",
              "summary": "{\n  \"name\": \"df\",\n  \"rows\": 48584,\n  \"fields\": [\n    {\n      \"column\": \"tau1\",\n      \"properties\": {\n        \"dtype\": \"number\",\n        \"std\": 2.742821516280608,\n        \"min\": 0.500793021360319,\n        \"max\": 9.99946946943287,\n        \"num_unique_values\": 10000,\n        \"samples\": [\n          1.95313593543868,\n          4.61368973820627,\n          2.73800097820337\n        ],\n        \"semantic_type\": \"\",\n        \"description\": \"\"\n      }\n    },\n    {\n      \"column\": \"tau2\",\n      \"properties\": {\n        \"dtype\": \"number\",\n        \"std\": 2.7421853990923473,\n        \"min\": 0.500141360493773,\n        \"max\": 9.99983655621537,\n        \"num_unique_values\": 30000,\n        \"samples\": [\n          2.17139235609864,\n          7.60146808205807,\n          5.37588648763036\n        ],\n        \"semantic_type\": \"\",\n        \"description\": \"\"\n      }\n    },\n    {\n      \"column\": \"tau3\",\n      \"properties\": {\n        \"dtype\": \"number\",\n        \"std\": 2.7417950438060577,\n        \"min\": 0.500141360493773,\n        \"max\": 9.99983655621537,\n        \"num_unique_values\": 30000,\n        \"samples\": [\n          6.49691553928642,\n          4.24023359736895,\n          9.23510482728911\n        ],\n        \"semantic_type\": \"\",\n        \"description\": \"\"\n      }\n    },\n    {\n      \"column\": \"tau4\",\n      \"properties\": {\n        \"dtype\": \"number\",\n        \"std\": 2.7440669914956417,\n        \"min\": 0.500141360493773,\n        \"max\": 9.99983655621537,\n        \"num_unique_values\": 30000,\n        \"samples\": [\n          7.49094495048652,\n          8.04373234775131,\n          4.62480877383408\n        ],\n        \"semantic_type\": \"\",\n        \"description\": \"\"\n      }\n    },\n    {\n      \"column\": \"p1\",\n      \"properties\": {\n        \"dtype\": \"number\",\n        \"std\": 0.7519769218272524,\n        \"min\": 1.58258966481528,\n        \"max\": 5.8644179596283,\n        \"num_unique_values\": 10000,\n        \"samples\": [\n          5.12895219385475,\n          4.65563071827631,\n          5.00760988957757\n        ],\n        \"semantic_type\": \"\",\n        \"description\": \"\"\n      }\n    },\n    {\n      \"column\": \"p2\",\n      \"properties\": {\n        \"dtype\": \"number\",\n        \"std\": 0.43284906714812826,\n        \"min\": -1.99994466917731,\n        \"max\": -0.500024528740323,\n        \"num_unique_values\": 30001,\n        \"samples\": [\n          -1.56546755923411,\n          -1.21509459159184,\n          -0.739328219184745\n        ],\n        \"semantic_type\": \"\",\n        \"description\": \"\"\n      }\n    },\n    {\n      \"column\": \"p3\",\n      \"properties\": {\n        \"dtype\": \"number\",\n        \"std\": 0.4331498752635208,\n        \"min\": -1.99994466917731,\n        \"max\": -0.500024528740323,\n        \"num_unique_values\": 30000,\n        \"samples\": [\n          -1.78492831105981,\n          -1.31918744343427,\n          -0.919830481613649\n        ],\n        \"semantic_type\": \"\",\n        \"description\": \"\"\n      }\n    },\n    {\n      \"column\": \"p4\",\n      \"properties\": {\n        \"dtype\": \"number\",\n        \"std\": 0.43295449901528255,\n        \"min\": -1.99994466917731,\n        \"max\": -0.500024528740323,\n        \"num_unique_values\": 30000,\n        \"samples\": [\n          -1.46545250895597,\n          -1.13855743317693,\n          -1.96079646464146\n        ],\n        \"semantic_type\": \"\",\n        \"description\": \"\"\n      }\n    },\n    {\n      \"column\": \"g1\",\n      \"properties\": {\n        \"dtype\": \"number\",\n        \"std\": 0.27427105781459143,\n        \"min\": 0.050009303611129,\n        \"max\": 0.999937073063054,\n        \"num_unique_values\": 10000,\n        \"samples\": [\n          0.487235135690853,\n          0.395106209672631,\n          0.162309940134343\n        ],\n        \"semantic_type\": \"\",\n        \"description\": \"\"\n      }\n    },\n    {\n      \"column\": \"g2\",\n      \"properties\": {\n        \"dtype\": \"number\",\n        \"std\": 0.27413668893632487,\n        \"min\": 0.050028493958976,\n        \"max\": 0.999981832400081,\n        \"num_unique_values\": 30000,\n        \"samples\": [\n          0.719611844634196,\n          0.925068873389395,\n          0.849056632338181\n        ],\n        \"semantic_type\": \"\",\n        \"description\": \"\"\n      }\n    },\n    {\n      \"column\": \"g3\",\n      \"properties\": {\n        \"dtype\": \"number\",\n        \"std\": 0.27429622147532556,\n        \"min\": 0.050028493958976,\n        \"max\": 0.999981832400081,\n        \"num_unique_values\": 30000,\n        \"samples\": [\n          0.495036222584228,\n          0.765132855235613,\n          0.086293409565964\n        ],\n        \"semantic_type\": \"\",\n        \"description\": \"\"\n      }\n    },\n    {\n      \"column\": \"g4\",\n      \"properties\": {\n        \"dtype\": \"number\",\n        \"std\": 0.27420403321997927,\n        \"min\": 0.050028493958976,\n        \"max\": 0.999981832400081,\n        \"num_unique_values\": 30000,\n        \"samples\": [\n          0.372501750549654,\n          0.888738455707346,\n          0.63259017856413\n        ],\n        \"semantic_type\": \"\",\n        \"description\": \"\"\n      }\n    },\n    {\n      \"column\": \"stab\",\n      \"properties\": {\n        \"dtype\": \"number\",\n        \"std\": 0.03692388930558339,\n        \"min\": -0.080759892416024,\n        \"max\": 0.109403206284885,\n        \"num_unique_values\": 10000,\n        \"samples\": [\n          0.035628965735259,\n          0.002382645768415,\n          0.030619959808307\n        ],\n        \"semantic_type\": \"\",\n        \"description\": \"\"\n      }\n    },\n    {\n      \"column\": \"stabf\",\n      \"properties\": {\n        \"dtype\": \"category\",\n        \"num_unique_values\": 2,\n        \"samples\": [\n          \"stable\",\n          \"unstable\"\n        ],\n        \"semantic_type\": \"\",\n        \"description\": \"\"\n      }\n    }\n  ]\n}"
            }
          },
          "metadata": {},
          "execution_count": 3
        }
      ],
      "source": [
        "\n",
        "\n",
        "df.head()"
      ]
    },
    {
      "cell_type": "markdown",
      "id": "839c3fa4",
      "metadata": {
        "papermill": {
          "duration": 0.010039,
          "end_time": "2024-02-19T16:11:54.284253",
          "exception": false,
          "start_time": "2024-02-19T16:11:54.274214",
          "status": "completed"
        },
        "tags": [],
        "id": "839c3fa4"
      },
      "source": [
        "The dataset contains several variables that are likely related to the characteristics of a smart grid system.\n",
        "\n",
        "* **tau1, tau2, tau3, tau4:** These columns could represent time constants related to different components or areas within the grid.\n",
        "* **p1, p2, p3, p4:** These might be power measurements or demands at four different points or sectors in the grid.\n",
        "* **g1, g2, g3, g4:** These could be generation capacities or some form of efficiency parameters for generators at four locations.\n",
        "* **stab:** A numerical stability indicator, possibly a calculated stability metric.\n",
        "* **stabf:** A categorical stability indicator with values 'stable' or 'unstable'."
      ]
    },
    {
      "cell_type": "markdown",
      "id": "1bdf7ef4",
      "metadata": {
        "papermill": {
          "duration": 0.009343,
          "end_time": "2024-02-19T16:11:54.304817",
          "exception": false,
          "start_time": "2024-02-19T16:11:54.295474",
          "status": "completed"
        },
        "tags": [],
        "id": "1bdf7ef4"
      },
      "source": [
        "# Summary Statistics and Missing Values"
      ]
    },
    {
      "cell_type": "code",
      "execution_count": 4,
      "id": "146315a1",
      "metadata": {
        "execution": {
          "iopub.execute_input": "2024-02-19T16:11:54.327122Z",
          "iopub.status.busy": "2024-02-19T16:11:54.326080Z",
          "iopub.status.idle": "2024-02-19T16:11:54.377217Z",
          "shell.execute_reply": "2024-02-19T16:11:54.375899Z"
        },
        "papermill": {
          "duration": 0.073111,
          "end_time": "2024-02-19T16:11:54.387493",
          "exception": false,
          "start_time": "2024-02-19T16:11:54.314382",
          "status": "completed"
        },
        "tags": [],
        "colab": {
          "base_uri": "https://localhost:8080/"
        },
        "id": "146315a1",
        "outputId": "6c0e51e8-098e-45b3-edd8-363e8e9ace28"
      },
      "outputs": [
        {
          "output_type": "stream",
          "name": "stdout",
          "text": [
            "<class 'pandas.core.frame.DataFrame'>\n",
            "RangeIndex: 48584 entries, 0 to 48583\n",
            "Data columns (total 14 columns):\n",
            " #   Column  Non-Null Count  Dtype  \n",
            "---  ------  --------------  -----  \n",
            " 0   tau1    48584 non-null  float64\n",
            " 1   tau2    48584 non-null  float64\n",
            " 2   tau3    48584 non-null  float64\n",
            " 3   tau4    48584 non-null  float64\n",
            " 4   p1      48584 non-null  float64\n",
            " 5   p2      48584 non-null  float64\n",
            " 6   p3      48583 non-null  float64\n",
            " 7   p4      48583 non-null  float64\n",
            " 8   g1      48583 non-null  float64\n",
            " 9   g2      48583 non-null  float64\n",
            " 10  g3      48583 non-null  float64\n",
            " 11  g4      48583 non-null  float64\n",
            " 12  stab    48583 non-null  float64\n",
            " 13  stabf   48583 non-null  object \n",
            "dtypes: float64(13), object(1)\n",
            "memory usage: 5.2+ MB\n"
          ]
        }
      ],
      "source": [
        "df.info()"
      ]
    },
    {
      "cell_type": "code",
      "execution_count": 5,
      "id": "18d10284",
      "metadata": {
        "execution": {
          "iopub.execute_input": "2024-02-19T16:11:54.416107Z",
          "iopub.status.busy": "2024-02-19T16:11:54.414791Z",
          "iopub.status.idle": "2024-02-19T16:11:54.434807Z",
          "shell.execute_reply": "2024-02-19T16:11:54.433426Z"
        },
        "papermill": {
          "duration": 0.036123,
          "end_time": "2024-02-19T16:11:54.437678",
          "exception": false,
          "start_time": "2024-02-19T16:11:54.401555",
          "status": "completed"
        },
        "tags": [],
        "colab": {
          "base_uri": "https://localhost:8080/",
          "height": 523
        },
        "id": "18d10284",
        "outputId": "f5725d1e-c8af-4b98-ddc3-fbedcd09420c"
      },
      "outputs": [
        {
          "output_type": "execute_result",
          "data": {
            "text/plain": [
              "tau1     0\n",
              "tau2     0\n",
              "tau3     0\n",
              "tau4     0\n",
              "p1       0\n",
              "p2       0\n",
              "p3       1\n",
              "p4       1\n",
              "g1       1\n",
              "g2       1\n",
              "g3       1\n",
              "g4       1\n",
              "stab     1\n",
              "stabf    1\n",
              "dtype: int64"
            ],
            "text/html": [
              "<div>\n",
              "<style scoped>\n",
              "    .dataframe tbody tr th:only-of-type {\n",
              "        vertical-align: middle;\n",
              "    }\n",
              "\n",
              "    .dataframe tbody tr th {\n",
              "        vertical-align: top;\n",
              "    }\n",
              "\n",
              "    .dataframe thead th {\n",
              "        text-align: right;\n",
              "    }\n",
              "</style>\n",
              "<table border=\"1\" class=\"dataframe\">\n",
              "  <thead>\n",
              "    <tr style=\"text-align: right;\">\n",
              "      <th></th>\n",
              "      <th>0</th>\n",
              "    </tr>\n",
              "  </thead>\n",
              "  <tbody>\n",
              "    <tr>\n",
              "      <th>tau1</th>\n",
              "      <td>0</td>\n",
              "    </tr>\n",
              "    <tr>\n",
              "      <th>tau2</th>\n",
              "      <td>0</td>\n",
              "    </tr>\n",
              "    <tr>\n",
              "      <th>tau3</th>\n",
              "      <td>0</td>\n",
              "    </tr>\n",
              "    <tr>\n",
              "      <th>tau4</th>\n",
              "      <td>0</td>\n",
              "    </tr>\n",
              "    <tr>\n",
              "      <th>p1</th>\n",
              "      <td>0</td>\n",
              "    </tr>\n",
              "    <tr>\n",
              "      <th>p2</th>\n",
              "      <td>0</td>\n",
              "    </tr>\n",
              "    <tr>\n",
              "      <th>p3</th>\n",
              "      <td>1</td>\n",
              "    </tr>\n",
              "    <tr>\n",
              "      <th>p4</th>\n",
              "      <td>1</td>\n",
              "    </tr>\n",
              "    <tr>\n",
              "      <th>g1</th>\n",
              "      <td>1</td>\n",
              "    </tr>\n",
              "    <tr>\n",
              "      <th>g2</th>\n",
              "      <td>1</td>\n",
              "    </tr>\n",
              "    <tr>\n",
              "      <th>g3</th>\n",
              "      <td>1</td>\n",
              "    </tr>\n",
              "    <tr>\n",
              "      <th>g4</th>\n",
              "      <td>1</td>\n",
              "    </tr>\n",
              "    <tr>\n",
              "      <th>stab</th>\n",
              "      <td>1</td>\n",
              "    </tr>\n",
              "    <tr>\n",
              "      <th>stabf</th>\n",
              "      <td>1</td>\n",
              "    </tr>\n",
              "  </tbody>\n",
              "</table>\n",
              "</div><br><label><b>dtype:</b> int64</label>"
            ]
          },
          "metadata": {},
          "execution_count": 5
        }
      ],
      "source": [
        "df.isnull().sum()"
      ]
    },
    {
      "cell_type": "code",
      "execution_count": 6,
      "id": "ed1596e2",
      "metadata": {
        "execution": {
          "iopub.execute_input": "2024-02-19T16:11:54.461135Z",
          "iopub.status.busy": "2024-02-19T16:11:54.460301Z",
          "iopub.status.idle": "2024-02-19T16:11:54.562517Z",
          "shell.execute_reply": "2024-02-19T16:11:54.561323Z"
        },
        "papermill": {
          "duration": 0.116656,
          "end_time": "2024-02-19T16:11:54.565266",
          "exception": false,
          "start_time": "2024-02-19T16:11:54.448610",
          "status": "completed"
        },
        "tags": [],
        "colab": {
          "base_uri": "https://localhost:8080/",
          "height": 320
        },
        "id": "ed1596e2",
        "outputId": "1807b0d3-b487-475a-99c9-d8535583e376"
      },
      "outputs": [
        {
          "output_type": "execute_result",
          "data": {
            "text/plain": [
              "               tau1          tau2          tau3          tau4            p1  \\\n",
              "count  48584.000000  48584.000000  48584.000000  48584.000000  48584.000000   \n",
              "mean       5.250231      5.252783      5.250661      5.251222      3.750547   \n",
              "std        2.742822      2.742185      2.741795      2.744067      0.751977   \n",
              "min        0.500793      0.500141      0.500141      0.500141      1.582590   \n",
              "25%        2.873519      2.877412      2.874717      2.874810      3.218995   \n",
              "50%        5.249467      5.255102      5.252816      5.255355      3.752202   \n",
              "75%        7.626616      7.627102      7.626241      7.628681      4.282567   \n",
              "max        9.999469      9.999837      9.999837      9.999837      5.864418   \n",
              "\n",
              "                 p2            p3            p4            g1            g2  \\\n",
              "count  48584.000000  48583.000000  48583.000000  48583.000000  48583.000000   \n",
              "mean      -1.250080     -1.249983     -1.250484      0.525241      0.524943   \n",
              "std        0.432849      0.433150      0.432954      0.274271      0.274137   \n",
              "min       -1.999945     -1.999945     -1.999945      0.050009      0.050028   \n",
              "25%       -1.624922     -1.625405     -1.625528      0.287654      0.287564   \n",
              "50%       -1.249819     -1.249823     -1.250769      0.525451      0.525081   \n",
              "75%       -0.875371     -0.874967     -0.875357      0.762618      0.762233   \n",
              "max       -0.500025     -0.500025     -0.500025      0.999937      0.999982   \n",
              "\n",
              "                 g3            g4          stab  \n",
              "count  48583.000000  48583.000000  48583.000000  \n",
              "mean       0.525206      0.524858      0.015766  \n",
              "std        0.274296      0.274204      0.036924  \n",
              "min        0.050028      0.050028     -0.080760  \n",
              "25%        0.287670      0.287527     -0.015552  \n",
              "50%        0.525246      0.524818      0.017165  \n",
              "75%        0.762961      0.762293      0.044890  \n",
              "max        0.999982      0.999982      0.109403  "
            ],
            "text/html": [
              "\n",
              "  <div id=\"df-8b28bbed-f9a1-4142-be10-6ff064180b42\" class=\"colab-df-container\">\n",
              "    <div>\n",
              "<style scoped>\n",
              "    .dataframe tbody tr th:only-of-type {\n",
              "        vertical-align: middle;\n",
              "    }\n",
              "\n",
              "    .dataframe tbody tr th {\n",
              "        vertical-align: top;\n",
              "    }\n",
              "\n",
              "    .dataframe thead th {\n",
              "        text-align: right;\n",
              "    }\n",
              "</style>\n",
              "<table border=\"1\" class=\"dataframe\">\n",
              "  <thead>\n",
              "    <tr style=\"text-align: right;\">\n",
              "      <th></th>\n",
              "      <th>tau1</th>\n",
              "      <th>tau2</th>\n",
              "      <th>tau3</th>\n",
              "      <th>tau4</th>\n",
              "      <th>p1</th>\n",
              "      <th>p2</th>\n",
              "      <th>p3</th>\n",
              "      <th>p4</th>\n",
              "      <th>g1</th>\n",
              "      <th>g2</th>\n",
              "      <th>g3</th>\n",
              "      <th>g4</th>\n",
              "      <th>stab</th>\n",
              "    </tr>\n",
              "  </thead>\n",
              "  <tbody>\n",
              "    <tr>\n",
              "      <th>count</th>\n",
              "      <td>48584.000000</td>\n",
              "      <td>48584.000000</td>\n",
              "      <td>48584.000000</td>\n",
              "      <td>48584.000000</td>\n",
              "      <td>48584.000000</td>\n",
              "      <td>48584.000000</td>\n",
              "      <td>48583.000000</td>\n",
              "      <td>48583.000000</td>\n",
              "      <td>48583.000000</td>\n",
              "      <td>48583.000000</td>\n",
              "      <td>48583.000000</td>\n",
              "      <td>48583.000000</td>\n",
              "      <td>48583.000000</td>\n",
              "    </tr>\n",
              "    <tr>\n",
              "      <th>mean</th>\n",
              "      <td>5.250231</td>\n",
              "      <td>5.252783</td>\n",
              "      <td>5.250661</td>\n",
              "      <td>5.251222</td>\n",
              "      <td>3.750547</td>\n",
              "      <td>-1.250080</td>\n",
              "      <td>-1.249983</td>\n",
              "      <td>-1.250484</td>\n",
              "      <td>0.525241</td>\n",
              "      <td>0.524943</td>\n",
              "      <td>0.525206</td>\n",
              "      <td>0.524858</td>\n",
              "      <td>0.015766</td>\n",
              "    </tr>\n",
              "    <tr>\n",
              "      <th>std</th>\n",
              "      <td>2.742822</td>\n",
              "      <td>2.742185</td>\n",
              "      <td>2.741795</td>\n",
              "      <td>2.744067</td>\n",
              "      <td>0.751977</td>\n",
              "      <td>0.432849</td>\n",
              "      <td>0.433150</td>\n",
              "      <td>0.432954</td>\n",
              "      <td>0.274271</td>\n",
              "      <td>0.274137</td>\n",
              "      <td>0.274296</td>\n",
              "      <td>0.274204</td>\n",
              "      <td>0.036924</td>\n",
              "    </tr>\n",
              "    <tr>\n",
              "      <th>min</th>\n",
              "      <td>0.500793</td>\n",
              "      <td>0.500141</td>\n",
              "      <td>0.500141</td>\n",
              "      <td>0.500141</td>\n",
              "      <td>1.582590</td>\n",
              "      <td>-1.999945</td>\n",
              "      <td>-1.999945</td>\n",
              "      <td>-1.999945</td>\n",
              "      <td>0.050009</td>\n",
              "      <td>0.050028</td>\n",
              "      <td>0.050028</td>\n",
              "      <td>0.050028</td>\n",
              "      <td>-0.080760</td>\n",
              "    </tr>\n",
              "    <tr>\n",
              "      <th>25%</th>\n",
              "      <td>2.873519</td>\n",
              "      <td>2.877412</td>\n",
              "      <td>2.874717</td>\n",
              "      <td>2.874810</td>\n",
              "      <td>3.218995</td>\n",
              "      <td>-1.624922</td>\n",
              "      <td>-1.625405</td>\n",
              "      <td>-1.625528</td>\n",
              "      <td>0.287654</td>\n",
              "      <td>0.287564</td>\n",
              "      <td>0.287670</td>\n",
              "      <td>0.287527</td>\n",
              "      <td>-0.015552</td>\n",
              "    </tr>\n",
              "    <tr>\n",
              "      <th>50%</th>\n",
              "      <td>5.249467</td>\n",
              "      <td>5.255102</td>\n",
              "      <td>5.252816</td>\n",
              "      <td>5.255355</td>\n",
              "      <td>3.752202</td>\n",
              "      <td>-1.249819</td>\n",
              "      <td>-1.249823</td>\n",
              "      <td>-1.250769</td>\n",
              "      <td>0.525451</td>\n",
              "      <td>0.525081</td>\n",
              "      <td>0.525246</td>\n",
              "      <td>0.524818</td>\n",
              "      <td>0.017165</td>\n",
              "    </tr>\n",
              "    <tr>\n",
              "      <th>75%</th>\n",
              "      <td>7.626616</td>\n",
              "      <td>7.627102</td>\n",
              "      <td>7.626241</td>\n",
              "      <td>7.628681</td>\n",
              "      <td>4.282567</td>\n",
              "      <td>-0.875371</td>\n",
              "      <td>-0.874967</td>\n",
              "      <td>-0.875357</td>\n",
              "      <td>0.762618</td>\n",
              "      <td>0.762233</td>\n",
              "      <td>0.762961</td>\n",
              "      <td>0.762293</td>\n",
              "      <td>0.044890</td>\n",
              "    </tr>\n",
              "    <tr>\n",
              "      <th>max</th>\n",
              "      <td>9.999469</td>\n",
              "      <td>9.999837</td>\n",
              "      <td>9.999837</td>\n",
              "      <td>9.999837</td>\n",
              "      <td>5.864418</td>\n",
              "      <td>-0.500025</td>\n",
              "      <td>-0.500025</td>\n",
              "      <td>-0.500025</td>\n",
              "      <td>0.999937</td>\n",
              "      <td>0.999982</td>\n",
              "      <td>0.999982</td>\n",
              "      <td>0.999982</td>\n",
              "      <td>0.109403</td>\n",
              "    </tr>\n",
              "  </tbody>\n",
              "</table>\n",
              "</div>\n",
              "    <div class=\"colab-df-buttons\">\n",
              "\n",
              "  <div class=\"colab-df-container\">\n",
              "    <button class=\"colab-df-convert\" onclick=\"convertToInteractive('df-8b28bbed-f9a1-4142-be10-6ff064180b42')\"\n",
              "            title=\"Convert this dataframe to an interactive table.\"\n",
              "            style=\"display:none;\">\n",
              "\n",
              "  <svg xmlns=\"http://www.w3.org/2000/svg\" height=\"24px\" viewBox=\"0 -960 960 960\">\n",
              "    <path d=\"M120-120v-720h720v720H120Zm60-500h600v-160H180v160Zm220 220h160v-160H400v160Zm0 220h160v-160H400v160ZM180-400h160v-160H180v160Zm440 0h160v-160H620v160ZM180-180h160v-160H180v160Zm440 0h160v-160H620v160Z\"/>\n",
              "  </svg>\n",
              "    </button>\n",
              "\n",
              "  <style>\n",
              "    .colab-df-container {\n",
              "      display:flex;\n",
              "      gap: 12px;\n",
              "    }\n",
              "\n",
              "    .colab-df-convert {\n",
              "      background-color: #E8F0FE;\n",
              "      border: none;\n",
              "      border-radius: 50%;\n",
              "      cursor: pointer;\n",
              "      display: none;\n",
              "      fill: #1967D2;\n",
              "      height: 32px;\n",
              "      padding: 0 0 0 0;\n",
              "      width: 32px;\n",
              "    }\n",
              "\n",
              "    .colab-df-convert:hover {\n",
              "      background-color: #E2EBFA;\n",
              "      box-shadow: 0px 1px 2px rgba(60, 64, 67, 0.3), 0px 1px 3px 1px rgba(60, 64, 67, 0.15);\n",
              "      fill: #174EA6;\n",
              "    }\n",
              "\n",
              "    .colab-df-buttons div {\n",
              "      margin-bottom: 4px;\n",
              "    }\n",
              "\n",
              "    [theme=dark] .colab-df-convert {\n",
              "      background-color: #3B4455;\n",
              "      fill: #D2E3FC;\n",
              "    }\n",
              "\n",
              "    [theme=dark] .colab-df-convert:hover {\n",
              "      background-color: #434B5C;\n",
              "      box-shadow: 0px 1px 3px 1px rgba(0, 0, 0, 0.15);\n",
              "      filter: drop-shadow(0px 1px 2px rgba(0, 0, 0, 0.3));\n",
              "      fill: #FFFFFF;\n",
              "    }\n",
              "  </style>\n",
              "\n",
              "    <script>\n",
              "      const buttonEl =\n",
              "        document.querySelector('#df-8b28bbed-f9a1-4142-be10-6ff064180b42 button.colab-df-convert');\n",
              "      buttonEl.style.display =\n",
              "        google.colab.kernel.accessAllowed ? 'block' : 'none';\n",
              "\n",
              "      async function convertToInteractive(key) {\n",
              "        const element = document.querySelector('#df-8b28bbed-f9a1-4142-be10-6ff064180b42');\n",
              "        const dataTable =\n",
              "          await google.colab.kernel.invokeFunction('convertToInteractive',\n",
              "                                                    [key], {});\n",
              "        if (!dataTable) return;\n",
              "\n",
              "        const docLinkHtml = 'Like what you see? Visit the ' +\n",
              "          '<a target=\"_blank\" href=https://colab.research.google.com/notebooks/data_table.ipynb>data table notebook</a>'\n",
              "          + ' to learn more about interactive tables.';\n",
              "        element.innerHTML = '';\n",
              "        dataTable['output_type'] = 'display_data';\n",
              "        await google.colab.output.renderOutput(dataTable, element);\n",
              "        const docLink = document.createElement('div');\n",
              "        docLink.innerHTML = docLinkHtml;\n",
              "        element.appendChild(docLink);\n",
              "      }\n",
              "    </script>\n",
              "  </div>\n",
              "\n",
              "\n",
              "    <div id=\"df-c732be05-7aa1-49b7-9c53-25c2e22684a3\">\n",
              "      <button class=\"colab-df-quickchart\" onclick=\"quickchart('df-c732be05-7aa1-49b7-9c53-25c2e22684a3')\"\n",
              "                title=\"Suggest charts\"\n",
              "                style=\"display:none;\">\n",
              "\n",
              "<svg xmlns=\"http://www.w3.org/2000/svg\" height=\"24px\"viewBox=\"0 0 24 24\"\n",
              "     width=\"24px\">\n",
              "    <g>\n",
              "        <path d=\"M19 3H5c-1.1 0-2 .9-2 2v14c0 1.1.9 2 2 2h14c1.1 0 2-.9 2-2V5c0-1.1-.9-2-2-2zM9 17H7v-7h2v7zm4 0h-2V7h2v10zm4 0h-2v-4h2v4z\"/>\n",
              "    </g>\n",
              "</svg>\n",
              "      </button>\n",
              "\n",
              "<style>\n",
              "  .colab-df-quickchart {\n",
              "      --bg-color: #E8F0FE;\n",
              "      --fill-color: #1967D2;\n",
              "      --hover-bg-color: #E2EBFA;\n",
              "      --hover-fill-color: #174EA6;\n",
              "      --disabled-fill-color: #AAA;\n",
              "      --disabled-bg-color: #DDD;\n",
              "  }\n",
              "\n",
              "  [theme=dark] .colab-df-quickchart {\n",
              "      --bg-color: #3B4455;\n",
              "      --fill-color: #D2E3FC;\n",
              "      --hover-bg-color: #434B5C;\n",
              "      --hover-fill-color: #FFFFFF;\n",
              "      --disabled-bg-color: #3B4455;\n",
              "      --disabled-fill-color: #666;\n",
              "  }\n",
              "\n",
              "  .colab-df-quickchart {\n",
              "    background-color: var(--bg-color);\n",
              "    border: none;\n",
              "    border-radius: 50%;\n",
              "    cursor: pointer;\n",
              "    display: none;\n",
              "    fill: var(--fill-color);\n",
              "    height: 32px;\n",
              "    padding: 0;\n",
              "    width: 32px;\n",
              "  }\n",
              "\n",
              "  .colab-df-quickchart:hover {\n",
              "    background-color: var(--hover-bg-color);\n",
              "    box-shadow: 0 1px 2px rgba(60, 64, 67, 0.3), 0 1px 3px 1px rgba(60, 64, 67, 0.15);\n",
              "    fill: var(--button-hover-fill-color);\n",
              "  }\n",
              "\n",
              "  .colab-df-quickchart-complete:disabled,\n",
              "  .colab-df-quickchart-complete:disabled:hover {\n",
              "    background-color: var(--disabled-bg-color);\n",
              "    fill: var(--disabled-fill-color);\n",
              "    box-shadow: none;\n",
              "  }\n",
              "\n",
              "  .colab-df-spinner {\n",
              "    border: 2px solid var(--fill-color);\n",
              "    border-color: transparent;\n",
              "    border-bottom-color: var(--fill-color);\n",
              "    animation:\n",
              "      spin 1s steps(1) infinite;\n",
              "  }\n",
              "\n",
              "  @keyframes spin {\n",
              "    0% {\n",
              "      border-color: transparent;\n",
              "      border-bottom-color: var(--fill-color);\n",
              "      border-left-color: var(--fill-color);\n",
              "    }\n",
              "    20% {\n",
              "      border-color: transparent;\n",
              "      border-left-color: var(--fill-color);\n",
              "      border-top-color: var(--fill-color);\n",
              "    }\n",
              "    30% {\n",
              "      border-color: transparent;\n",
              "      border-left-color: var(--fill-color);\n",
              "      border-top-color: var(--fill-color);\n",
              "      border-right-color: var(--fill-color);\n",
              "    }\n",
              "    40% {\n",
              "      border-color: transparent;\n",
              "      border-right-color: var(--fill-color);\n",
              "      border-top-color: var(--fill-color);\n",
              "    }\n",
              "    60% {\n",
              "      border-color: transparent;\n",
              "      border-right-color: var(--fill-color);\n",
              "    }\n",
              "    80% {\n",
              "      border-color: transparent;\n",
              "      border-right-color: var(--fill-color);\n",
              "      border-bottom-color: var(--fill-color);\n",
              "    }\n",
              "    90% {\n",
              "      border-color: transparent;\n",
              "      border-bottom-color: var(--fill-color);\n",
              "    }\n",
              "  }\n",
              "</style>\n",
              "\n",
              "      <script>\n",
              "        async function quickchart(key) {\n",
              "          const quickchartButtonEl =\n",
              "            document.querySelector('#' + key + ' button');\n",
              "          quickchartButtonEl.disabled = true;  // To prevent multiple clicks.\n",
              "          quickchartButtonEl.classList.add('colab-df-spinner');\n",
              "          try {\n",
              "            const charts = await google.colab.kernel.invokeFunction(\n",
              "                'suggestCharts', [key], {});\n",
              "          } catch (error) {\n",
              "            console.error('Error during call to suggestCharts:', error);\n",
              "          }\n",
              "          quickchartButtonEl.classList.remove('colab-df-spinner');\n",
              "          quickchartButtonEl.classList.add('colab-df-quickchart-complete');\n",
              "        }\n",
              "        (() => {\n",
              "          let quickchartButtonEl =\n",
              "            document.querySelector('#df-c732be05-7aa1-49b7-9c53-25c2e22684a3 button');\n",
              "          quickchartButtonEl.style.display =\n",
              "            google.colab.kernel.accessAllowed ? 'block' : 'none';\n",
              "        })();\n",
              "      </script>\n",
              "    </div>\n",
              "\n",
              "    </div>\n",
              "  </div>\n"
            ],
            "application/vnd.google.colaboratory.intrinsic+json": {
              "type": "dataframe",
              "summary": "{\n  \"name\": \"df\",\n  \"rows\": 8,\n  \"fields\": [\n    {\n      \"column\": \"tau1\",\n      \"properties\": {\n        \"dtype\": \"number\",\n        \"std\": 17175.308657102647,\n        \"min\": 0.500793021360319,\n        \"max\": 48584.0,\n        \"num_unique_values\": 8,\n        \"samples\": [\n          5.250230974312845,\n          5.2494672674393,\n          48584.0\n        ],\n        \"semantic_type\": \"\",\n        \"description\": \"\"\n      }\n    },\n    {\n      \"column\": \"tau2\",\n      \"properties\": {\n        \"dtype\": \"number\",\n        \"std\": 17175.308068896913,\n        \"min\": 0.500141360493773,\n        \"max\": 48584.0,\n        \"num_unique_values\": 8,\n        \"samples\": [\n          5.252782904649611,\n          5.255102207646004,\n          48584.0\n        ],\n        \"semantic_type\": \"\",\n        \"description\": \"\"\n      }\n    },\n    {\n      \"column\": \"tau3\",\n      \"properties\": {\n        \"dtype\": \"number\",\n        \"std\": 17175.30849095907,\n        \"min\": 0.500141360493773,\n        \"max\": 48584.0,\n        \"num_unique_values\": 8,\n        \"samples\": [\n          5.250660586113816,\n          5.25281605838464,\n          48584.0\n        ],\n        \"semantic_type\": \"\",\n        \"description\": \"\"\n      }\n    },\n    {\n      \"column\": \"tau4\",\n      \"properties\": {\n        \"dtype\": \"number\",\n        \"std\": 17175.30809166435,\n        \"min\": 0.500141360493773,\n        \"max\": 48584.0,\n        \"num_unique_values\": 8,\n        \"samples\": [\n          5.2512222348219595,\n          5.255354868304259,\n          48584.0\n        ],\n        \"semantic_type\": \"\",\n        \"description\": \"\"\n      }\n    },\n    {\n      \"column\": \"p1\",\n      \"properties\": {\n        \"dtype\": \"number\",\n        \"std\": 17175.866057583447,\n        \"min\": 0.7519769218272524,\n        \"max\": 48584.0,\n        \"num_unique_values\": 8,\n        \"samples\": [\n          3.7505465935248754,\n          3.75220150230769,\n          48584.0\n        ],\n        \"semantic_type\": \"\",\n        \"description\": \"\"\n      }\n    },\n    {\n      \"column\": \"p2\",\n      \"properties\": {\n        \"dtype\": \"number\",\n        \"std\": 17177.39489766644,\n        \"min\": -1.99994466917731,\n        \"max\": 48584.0,\n        \"num_unique_values\": 8,\n        \"samples\": [\n          -1.250079650064571,\n          -1.249818728500185,\n          48584.0\n        ],\n        \"semantic_type\": \"\",\n        \"description\": \"\"\n      }\n    },\n    {\n      \"column\": \"p3\",\n      \"properties\": {\n        \"dtype\": \"number\",\n        \"std\": 17177.04132844032,\n        \"min\": -1.99994466917731,\n        \"max\": 48583.0,\n        \"num_unique_values\": 8,\n        \"samples\": [\n          -1.2499830812495325,\n          -1.24982339994248,\n          48583.0\n        ],\n        \"semantic_type\": \"\",\n        \"description\": \"\"\n      }\n    },\n    {\n      \"column\": \"p4\",\n      \"properties\": {\n        \"dtype\": \"number\",\n        \"std\": 17177.041437250602,\n        \"min\": -1.99994466917731,\n        \"max\": 48583.0,\n        \"num_unique_values\": 8,\n        \"samples\": [\n          -1.250484128903342,\n          -1.25076913560055,\n          48583.0\n        ],\n        \"semantic_type\": \"\",\n        \"description\": \"\"\n      }\n    },\n    {\n      \"column\": \"g1\",\n      \"properties\": {\n        \"dtype\": \"number\",\n        \"std\": 17176.511380007476,\n        \"min\": 0.050009303611129,\n        \"max\": 48583.0,\n        \"num_unique_values\": 8,\n        \"samples\": [\n          0.5252407190136427,\n          0.525450947927759,\n          48583.0\n        ],\n        \"semantic_type\": \"\",\n        \"description\": \"\"\n      }\n    },\n    {\n      \"column\": \"g2\",\n      \"properties\": {\n        \"dtype\": \"number\",\n        \"std\": 17176.51144128359,\n        \"min\": 0.050028493958976,\n        \"max\": 48583.0,\n        \"num_unique_values\": 8,\n        \"samples\": [\n          0.5249431234484475,\n          0.525081351390929,\n          48583.0\n        ],\n        \"semantic_type\": \"\",\n        \"description\": \"\"\n      }\n    },\n    {\n      \"column\": \"g3\",\n      \"properties\": {\n        \"dtype\": \"number\",\n        \"std\": 17176.51136946044,\n        \"min\": 0.050028493958976,\n        \"max\": 48583.0,\n        \"num_unique_values\": 8,\n        \"samples\": [\n          0.5252064474841999,\n          0.525245943862833,\n          48583.0\n        ],\n        \"semantic_type\": \"\",\n        \"description\": \"\"\n      }\n    },\n    {\n      \"column\": \"g4\",\n      \"properties\": {\n        \"dtype\": \"number\",\n        \"std\": 17176.511454309428,\n        \"min\": 0.050028493958976,\n        \"max\": 48583.0,\n        \"num_unique_values\": 8,\n        \"samples\": [\n          0.5248580911048879,\n          0.524817727905243,\n          48583.0\n        ],\n        \"semantic_type\": \"\",\n        \"description\": \"\"\n      }\n    },\n    {\n      \"column\": \"stab\",\n      \"properties\": {\n        \"dtype\": \"number\",\n        \"std\": 17176.677918557976,\n        \"min\": -0.080759892416024,\n        \"max\": 48583.0,\n        \"num_unique_values\": 8,\n        \"samples\": [\n          0.015766117621280495,\n          0.017164794593952,\n          48583.0\n        ],\n        \"semantic_type\": \"\",\n        \"description\": \"\"\n      }\n    }\n  ]\n}"
            }
          },
          "metadata": {},
          "execution_count": 6
        }
      ],
      "source": [
        "df.describe()"
      ]
    },
    {
      "cell_type": "markdown",
      "id": "496f8024",
      "metadata": {
        "papermill": {
          "duration": 0.00993,
          "end_time": "2024-02-19T16:11:54.585564",
          "exception": false,
          "start_time": "2024-02-19T16:11:54.575634",
          "status": "completed"
        },
        "tags": [],
        "id": "496f8024"
      },
      "source": [
        "**Summary Statistics:**\n",
        "\n",
        "* The variables **tau1, tau2, tau3, tau4, g1, g2, g3**, and **g4** have a mean value around **5.25** and **0.525**, respectively, with their distributions spanning a similar range which suggests a uniform distribution across these parameters.\n",
        "* The power variables **p1, p2, p3**, and **p4** show that **p1** has a positive mean **(3.75)** indicating it might be a supply point, whereas **p2, p3**, and **p4** have negative means **(-1.25)** suggesting they are demand points. Their standard deviations are relatively small, indicating that the values do not vary widely from the mean.\n",
        "* The **stab** variable, which appears to be a numerical stability indicator, has a mean close to **0.0157**, with a minimum and maximum value indicating a range of stability conditions in the grid."
      ]
    },
    {
      "cell_type": "markdown",
      "id": "f679a803",
      "metadata": {
        "papermill": {
          "duration": 0.009974,
          "end_time": "2024-02-19T16:11:54.605860",
          "exception": false,
          "start_time": "2024-02-19T16:11:54.595886",
          "status": "completed"
        },
        "tags": [],
        "id": "f679a803"
      },
      "source": [
        "# Analysis of Distributions and Correlations"
      ]
    },
    {
      "cell_type": "code",
      "execution_count": 7,
      "id": "403f9d77",
      "metadata": {
        "execution": {
          "iopub.execute_input": "2024-02-19T16:11:54.629225Z",
          "iopub.status.busy": "2024-02-19T16:11:54.628342Z",
          "iopub.status.idle": "2024-02-19T16:11:57.900888Z",
          "shell.execute_reply": "2024-02-19T16:11:57.899385Z"
        },
        "papermill": {
          "duration": 3.288101,
          "end_time": "2024-02-19T16:11:57.904254",
          "exception": false,
          "start_time": "2024-02-19T16:11:54.616153",
          "status": "completed"
        },
        "tags": [],
        "colab": {
          "base_uri": "https://localhost:8080/",
          "height": 627
        },
        "id": "403f9d77",
        "outputId": "06221460-dce5-4a4d-9cf9-386c9eb7f961"
      },
      "outputs": [
        {
          "output_type": "display_data",
          "data": {
            "text/plain": [
              "<Figure size 1400x1000 with 4 Axes>"
            ],
            "image/png": "[encoded data removed]"
          },
          "metadata": {}
        }
      ],
      "source": [
        "sns.set_style(\"whitegrid\")\n",
        "\n",
        "fig, axes = plt.subplots(2, 2, figsize=(14, 10))\n",
        "sns.histplot(df['tau1'], bins=30, kde=True, ax=axes[0, 0], color='skyblue')\n",
        "sns.histplot(df['p1'], bins=30, kde=True, ax=axes[0, 1], color='olive')\n",
        "sns.histplot(df['g1'], bins=30, kde=True, ax=axes[1, 0], color='gold')\n",
        "sns.histplot(df['stab'], bins=30, kde=True, ax=axes[1, 1], color='teal')\n",
        "\n",
        "axes[0, 0].set_title('Distribution of tau1')\n",
        "axes[0, 1].set_title('Distribution of p1')\n",
        "axes[1, 0].set_title('Distribution of g1')\n",
        "axes[1, 1].set_title('Distribution of stab')\n",
        "\n",
        "plt.tight_layout()\n",
        "plt.show()"
      ]
    },
    {
      "cell_type": "markdown",
      "id": "2681f921",
      "metadata": {
        "papermill": {
          "duration": 0.013609,
          "end_time": "2024-02-19T16:11:57.932354",
          "exception": false,
          "start_time": "2024-02-19T16:11:57.918745",
          "status": "completed"
        },
        "tags": [],
        "id": "2681f921"
      },
      "source": [
        "**Distributions:**\n",
        "\n",
        "* **tau1, g1, and stab:** The distributions of **tau1, g1**, and **stab** suggest a relatively uniform distribution for **tau1** and **g1**, indicating that these parameters are spread evenly across their range. The stability metric stab shows a distribution that is slightly skewed, but it also appears to cover a broad range of values.\n",
        "* **p1:** The distribution of **p1** shows variability in power generation/demand, with a peak indicating a common value range but with the distribution covering both supply and demand ranges."
      ]
    },
    {
      "cell_type": "code",
      "execution_count": 8,
      "id": "0973de2d",
      "metadata": {
        "execution": {
          "iopub.execute_input": "2024-02-19T16:11:57.960441Z",
          "iopub.status.busy": "2024-02-19T16:11:57.960007Z",
          "iopub.status.idle": "2024-02-19T16:11:58.920094Z",
          "shell.execute_reply": "2024-02-19T16:11:58.918768Z"
        },
        "papermill": {
          "duration": 0.979074,
          "end_time": "2024-02-19T16:11:58.924575",
          "exception": false,
          "start_time": "2024-02-19T16:11:57.945501",
          "status": "completed"
        },
        "tags": [],
        "colab": {
          "base_uri": "https://localhost:8080/",
          "height": 921
        },
        "id": "0973de2d",
        "outputId": "bcc6be4b-c105-4ed1-9cee-5777d5e4937d"
      },
      "outputs": [
        {
          "output_type": "display_data",
          "data": {
            "text/plain": [
              "<Figure size 1200x800 with 2 Axes>"
            ],
            "image/png": "[encoded data removed]"
          },
          "metadata": {}
        },
        {
          "output_type": "stream",
          "name": "stdout",
          "text": [
            "Correlation with 'stab':\n",
            " stab    1.000000\n",
            "g4      0.295710\n",
            "g3      0.293958\n",
            "g2      0.291704\n",
            "tau4    0.284715\n",
            "g1      0.283561\n",
            "tau2    0.282857\n",
            "tau3    0.281338\n",
            "tau1    0.277003\n",
            "p1      0.011651\n",
            "p4     -0.004448\n",
            "p2     -0.007236\n",
            "p3     -0.008549\n",
            "Name: stab, dtype: float64\n"
          ]
        }
      ],
      "source": [
        "# Select only numeric columns for correlation analysis\n",
        "numeric_columns = df.select_dtypes(include=['float64', 'int64']).columns\n",
        "correlation_matrix = df[numeric_columns].corr()\n",
        "\n",
        "plt.figure(figsize=(12, 8))\n",
        "sns.heatmap(correlation_matrix, annot=True, cmap='coolwarm', fmt=\".2f\", linewidths=0.5)\n",
        "plt.title('Correlation Matrix')\n",
        "plt.show()\n",
        "\n",
        "correlation_with_stab = correlation_matrix['stab'].sort_values(ascending=False)\n",
        "print(\"Correlation with 'stab':\\n\", correlation_with_stab)\n"
      ]
    },
    {
      "cell_type": "code",
      "execution_count": 9,
      "id": "23ff8990",
      "metadata": {
        "execution": {
          "iopub.execute_input": "2024-02-19T16:11:58.955120Z",
          "iopub.status.busy": "2024-02-19T16:11:58.954691Z",
          "iopub.status.idle": "2024-02-19T16:12:02.432274Z",
          "shell.execute_reply": "2024-02-19T16:12:02.430896Z"
        },
        "papermill": {
          "duration": 3.496331,
          "end_time": "2024-02-19T16:12:02.434970",
          "exception": false,
          "start_time": "2024-02-19T16:11:58.938639",
          "status": "completed"
        },
        "tags": [],
        "colab": {
          "base_uri": "https://localhost:8080/",
          "height": 443
        },
        "id": "23ff8990",
        "outputId": "d2f570d7-d6b6-4aa5-df17-b84856d994a9"
      },
      "outputs": [
        {
          "output_type": "display_data",
          "data": {
            "text/plain": [
              "<Figure size 1600x800 with 12 Axes>"
            ],
            "image/png": "[encoded data removed]"
          },
          "metadata": {}
        }
      ],
      "source": [
        "plt.figure(figsize=(16, 8))\n",
        "for i, column in enumerate(df.columns[:-2]):\n",
        "    plt.subplot(3, 4, i+1)\n",
        "    sns.boxplot(x='stabf', y=column, data=df)\n",
        "    plt.title(column)\n",
        "plt.tight_layout()\n",
        "plt.show()\n"
      ]
    },
    {
      "cell_type": "code",
      "execution_count": 10,
      "id": "f261c54c",
      "metadata": {
        "execution": {
          "iopub.execute_input": "2024-02-19T16:12:02.468568Z",
          "iopub.status.busy": "2024-02-19T16:12:02.467396Z",
          "iopub.status.idle": "2024-02-19T16:12:02.485785Z",
          "shell.execute_reply": "2024-02-19T16:12:02.483627Z"
        },
        "papermill": {
          "duration": 0.037733,
          "end_time": "2024-02-19T16:12:02.488613",
          "exception": false,
          "start_time": "2024-02-19T16:12:02.450880",
          "status": "completed"
        },
        "tags": [],
        "colab": {
          "base_uri": "https://localhost:8080/"
        },
        "id": "f261c54c",
        "outputId": "2849ee35-dac6-4b5f-f036-db82e18f7e79"
      },
      "outputs": [
        {
          "output_type": "stream",
          "name": "stdout",
          "text": [
            "Class Distribution:\n",
            "stabf\n",
            "unstable    31014\n",
            "stable      17569\n",
            "Name: count, dtype: int64\n"
          ]
        }
      ],
      "source": [
        "class_distribution = df['stabf'].value_counts()\n",
        "\n",
        "print(\"Class Distribution:\")\n",
        "print(class_distribution)"
      ]
    },
    {
      "cell_type": "markdown",
      "id": "305483bb",
      "metadata": {
        "papermill": {
          "duration": 0.016892,
          "end_time": "2024-02-19T16:12:02.521948",
          "exception": false,
          "start_time": "2024-02-19T16:12:02.505056",
          "status": "completed"
        },
        "tags": [],
        "id": "305483bb"
      },
      "source": [
        "# Random Forest Classifier"
      ]
    },
    {
      "cell_type": "code",
      "execution_count": 12,
      "id": "0ad236a8",
      "metadata": {
        "execution": {
          "iopub.execute_input": "2024-02-19T16:12:02.554571Z",
          "iopub.status.busy": "2024-02-19T16:12:02.553365Z",
          "iopub.status.idle": "2024-02-19T16:12:21.796013Z",
          "shell.execute_reply": "2024-02-19T16:12:21.794620Z"
        },
        "papermill": {
          "duration": 19.261816,
          "end_time": "2024-02-19T16:12:21.798632",
          "exception": false,
          "start_time": "2024-02-19T16:12:02.536816",
          "status": "completed"
        },
        "tags": [],
        "colab": {
          "base_uri": "https://localhost:8080/"
        },
        "id": "0ad236a8",
        "outputId": "bcb97b09-d932-41b8-b72b-2b5fed52f14d"
      },
      "outputs": [
        {
          "output_type": "stream",
          "name": "stdout",
          "text": [
            "Accuracy: 0.9465\n",
            "\n",
            "Classification Report:\n",
            "               precision    recall  f1-score   support\n",
            "\n",
            "      stable       0.93      0.91      0.92      3459\n",
            "    unstable       0.95      0.96      0.96      6258\n",
            "\n",
            "    accuracy                           0.95      9717\n",
            "   macro avg       0.94      0.94      0.94      9717\n",
            "weighted avg       0.95      0.95      0.95      9717\n",
            "\n"
          ]
        }
      ],
      "source": [
        "# Encode the categorical target variable\n",
        "le = LabelEncoder()\n",
        "df['stabf_encoded'] = le.fit_transform(df['stabf'])\n",
        "\n",
        "X = df.drop(['stabf', 'stabf_encoded', 'stab'], axis=1)\n",
        "y = df['stabf_encoded']\n",
        "\n",
        "X_train, X_test, y_train, y_test = train_test_split(X, y, test_size=0.2, random_state=42)\n",
        "\n",
        "rf_classifier = RandomForestClassifier(n_estimators=100, random_state=42)\n",
        "rf_classifier.fit(X_train, y_train)\n",
        "\n",
        "y_pred = rf_classifier.predict(X_test)\n",
        "\n",
        "accuracy = accuracy_score(y_test, y_pred)\n",
        "classification_rep = classification_report(y_test, y_pred, target_names=le.classes_[:2])\n",
        "\n",
        "print(f\"Accuracy: {accuracy:.4f}\")\n",
        "print(\"\\nClassification Report:\\n\", classification_rep)\n"
      ]
    },
    {
      "cell_type": "code",
      "source": [
        "joblib.dump(rf_classifier, 'random_forest_model.pkl')"
      ],
      "metadata": {
        "colab": {
          "base_uri": "https://localhost:8080/"
        },
        "id": "dYl1uLGI9FmE",
        "outputId": "7a341332-dbd8-43a7-ec87-9491e75e87fa"
      },
      "id": "dYl1uLGI9FmE",
      "execution_count": 14,
      "outputs": [
        {
          "output_type": "execute_result",
          "data": {
            "text/plain": [
              "['random_forest_model.pkl']"
            ]
          },
          "metadata": {},
          "execution_count": 14
        }
      ]
    },
    {
      "cell_type": "markdown",
      "id": "13f75888",
      "metadata": {
        "papermill": {
          "duration": 0.014529,
          "end_time": "2024-02-19T16:12:21.828086",
          "exception": false,
          "start_time": "2024-02-19T16:12:21.813557",
          "status": "completed"
        },
        "tags": [],
        "id": "13f75888"
      },
      "source": [
        "The **Random Forest classifier** achieved an accuracy of approximately **94.79%** on the testing set. This is a strong performance, indicating that the model is quite effective at predicting grid stability based on the given features. Here's a detailed breakdown:\n",
        "\n",
        "**Precision:**\n",
        "Stable: 91%\n",
        "Unstable: 96%\n",
        "\n",
        "**Recall:**\n",
        "Stable: 92%\n",
        "Unstable: 97%\n",
        "\n",
        "**F1-Score:**\n",
        "Stable: 92\n",
        "%\n",
        "Unstable: 96%\n",
        "\n",
        "The model shows slightly better performance in identifying 'unstable' conditions compared to 'stable' ones, which is reflected in the higher recall and F1-score for the 'unstable' class. This could be particularly useful in a practical scenario where identifying unstable conditions might be more critical."
      ]
    },
    {
      "cell_type": "code",
      "execution_count": 15,
      "id": "a2da26b7",
      "metadata": {
        "execution": {
          "iopub.execute_input": "2024-02-19T16:12:21.862437Z",
          "iopub.status.busy": "2024-02-19T16:12:21.861524Z",
          "iopub.status.idle": "2024-02-19T16:12:22.300584Z",
          "shell.execute_reply": "2024-02-19T16:12:22.299349Z"
        },
        "papermill": {
          "duration": 0.459105,
          "end_time": "2024-02-19T16:12:22.303095",
          "exception": false,
          "start_time": "2024-02-19T16:12:21.843990",
          "status": "completed"
        },
        "tags": [],
        "colab": {
          "base_uri": "https://localhost:8080/",
          "height": 1000
        },
        "id": "a2da26b7",
        "outputId": "fb8c39b4-825b-46a9-83fb-5ca747671cf1"
      },
      "outputs": [
        {
          "output_type": "display_data",
          "data": {
            "text/plain": [
              "<Figure size 1000x800 with 1 Axes>"
            ],
            "image/png": "[encoded data removed]"
          },
          "metadata": {}
        },
        {
          "output_type": "execute_result",
          "data": {
            "text/plain": [
              "tau1    0.128227\n",
              "tau4    0.126416\n",
              "tau3    0.124064\n",
              "tau2    0.123935\n",
              "g2      0.102245\n",
              "g4      0.099924\n",
              "g3      0.099906\n",
              "g1      0.099705\n",
              "p1      0.024858\n",
              "p3      0.023831\n",
              "p4      0.023627\n",
              "p2      0.023261\n",
              "dtype: float64"
            ],
            "text/html": [
              "<div>\n",
              "<style scoped>\n",
              "    .dataframe tbody tr th:only-of-type {\n",
              "        vertical-align: middle;\n",
              "    }\n",
              "\n",
              "    .dataframe tbody tr th {\n",
              "        vertical-align: top;\n",
              "    }\n",
              "\n",
              "    .dataframe thead th {\n",
              "        text-align: right;\n",
              "    }\n",
              "</style>\n",
              "<table border=\"1\" class=\"dataframe\">\n",
              "  <thead>\n",
              "    <tr style=\"text-align: right;\">\n",
              "      <th></th>\n",
              "      <th>0</th>\n",
              "    </tr>\n",
              "  </thead>\n",
              "  <tbody>\n",
              "    <tr>\n",
              "      <th>tau1</th>\n",
              "      <td>0.128227</td>\n",
              "    </tr>\n",
              "    <tr>\n",
              "      <th>tau4</th>\n",
              "      <td>0.126416</td>\n",
              "    </tr>\n",
              "    <tr>\n",
              "      <th>tau3</th>\n",
              "      <td>0.124064</td>\n",
              "    </tr>\n",
              "    <tr>\n",
              "      <th>tau2</th>\n",
              "      <td>0.123935</td>\n",
              "    </tr>\n",
              "    <tr>\n",
              "      <th>g2</th>\n",
              "      <td>0.102245</td>\n",
              "    </tr>\n",
              "    <tr>\n",
              "      <th>g4</th>\n",
              "      <td>0.099924</td>\n",
              "    </tr>\n",
              "    <tr>\n",
              "      <th>g3</th>\n",
              "      <td>0.099906</td>\n",
              "    </tr>\n",
              "    <tr>\n",
              "      <th>g1</th>\n",
              "      <td>0.099705</td>\n",
              "    </tr>\n",
              "    <tr>\n",
              "      <th>p1</th>\n",
              "      <td>0.024858</td>\n",
              "    </tr>\n",
              "    <tr>\n",
              "      <th>p3</th>\n",
              "      <td>0.023831</td>\n",
              "    </tr>\n",
              "    <tr>\n",
              "      <th>p4</th>\n",
              "      <td>0.023627</td>\n",
              "    </tr>\n",
              "    <tr>\n",
              "      <th>p2</th>\n",
              "      <td>0.023261</td>\n",
              "    </tr>\n",
              "  </tbody>\n",
              "</table>\n",
              "</div><br><label><b>dtype:</b> float64</label>"
            ]
          },
          "metadata": {},
          "execution_count": 15
        }
      ],
      "source": [
        "feature_importances = rf_classifier.feature_importances_\n",
        "\n",
        "importances_series = pd.Series(feature_importances, index=X_train.columns)\n",
        "\n",
        "plt.figure(figsize=(10, 8))\n",
        "importances_series.sort_values().plot(kind='barh', color='skyblue')\n",
        "plt.title('Feature Importances in Random Forest Model')\n",
        "plt.xlabel('Importance')\n",
        "plt.ylabel('Features')\n",
        "plt.show()\n",
        "\n",
        "importances_series.sort_values(ascending=False)\n"
      ]
    },
    {
      "cell_type": "markdown",
      "id": "37a83e4a",
      "metadata": {
        "papermill": {
          "duration": 0.015103,
          "end_time": "2024-02-19T16:12:22.333526",
          "exception": false,
          "start_time": "2024-02-19T16:12:22.318423",
          "status": "completed"
        },
        "tags": [],
        "id": "37a83e4a"
      },
      "source": [
        "**Feature Importance Analysis Results**\n",
        "\n",
        "The analysis of feature importances in the Random Forest model reveals the following insights:\n",
        "\n",
        "* **Time Constants (tau1, tau2, tau3, tau4):** These are the most important features for predicting grid stability, with tau1 being the most significant, followed by tau3, tau4, and tau2. This suggests that the time-related characteristics of the grid components play a crucial role in determining its stability.\n",
        "* **Generation Capacities (g1, g2, g3, g4):** The generation capacities or efficiency parameters also contribute significantly to the prediction of grid stability, though they are less important than the time constants. Among these, g3 and g4 are slightly more influential than g1 and g2.\n",
        "* **Power Demands (p1, p2, p3, p4):** These features have the least influence on the model's predictions. However, they still contribute to the overall decision-making process of the model, with p1 being slightly more important than the others."
      ]
    },
    {
      "cell_type": "markdown",
      "id": "ba92316e",
      "metadata": {
        "papermill": {
          "duration": 0.015295,
          "end_time": "2024-02-19T16:12:22.364342",
          "exception": false,
          "start_time": "2024-02-19T16:12:22.349047",
          "status": "completed"
        },
        "tags": [],
        "id": "ba92316e"
      },
      "source": [
        "# Decision Tree Classifier"
      ]
    },
    {
      "cell_type": "code",
      "execution_count": 17,
      "id": "82dd840f",
      "metadata": {
        "execution": {
          "iopub.execute_input": "2024-02-19T16:12:22.397929Z",
          "iopub.status.busy": "2024-02-19T16:12:22.397458Z",
          "iopub.status.idle": "2024-02-19T16:12:23.360590Z",
          "shell.execute_reply": "2024-02-19T16:12:23.359042Z"
        },
        "papermill": {
          "duration": 0.982745,
          "end_time": "2024-02-19T16:12:23.363218",
          "exception": false,
          "start_time": "2024-02-19T16:12:22.380473",
          "status": "completed"
        },
        "tags": [],
        "colab": {
          "base_uri": "https://localhost:8080/"
        },
        "id": "82dd840f",
        "outputId": "447449e4-82ba-4aae-9f38-93bdc7fb3076"
      },
      "outputs": [
        {
          "output_type": "stream",
          "name": "stdout",
          "text": [
            "Accuracy: 0.8925\n",
            "\n",
            "Classification Report:\n",
            "               precision    recall  f1-score   support\n",
            "\n",
            "      stable       0.85      0.85      0.85      3459\n",
            "    unstable       0.92      0.91      0.92      6258\n",
            "\n",
            "    accuracy                           0.89      9717\n",
            "   macro avg       0.88      0.88      0.88      9717\n",
            "weighted avg       0.89      0.89      0.89      9717\n",
            "\n"
          ]
        }
      ],
      "source": [
        "dt_classifier = DecisionTreeClassifier(random_state=42)\n",
        "\n",
        "dt_classifier.fit(X_train, y_train)\n",
        "\n",
        "y_pred_dt = dt_classifier.predict(X_test)\n",
        "\n",
        "accuracy_dt = accuracy_score(y_test, y_pred_dt)\n",
        "classification_rep_dt = classification_report(y_test, y_pred_dt, target_names=le.classes_[:2])\n",
        "\n",
        "print(f\"Accuracy: {accuracy_dt:.4f}\")\n",
        "print(\"\\nClassification Report:\\n\", classification_rep_dt)"
      ]
    },
    {
      "cell_type": "code",
      "source": [
        "joblib.dump(dt_classifier, 'Decision_tree_model.pkl')"
      ],
      "metadata": {
        "colab": {
          "base_uri": "https://localhost:8080/"
        },
        "id": "wUiMYmnY9kCL",
        "outputId": "e4b42349-e3e9-457c-9879-81df8edd25f2"
      },
      "id": "wUiMYmnY9kCL",
      "execution_count": 18,
      "outputs": [
        {
          "output_type": "execute_result",
          "data": {
            "text/plain": [
              "['Decision_tree_model.pkl']"
            ]
          },
          "metadata": {},
          "execution_count": 18
        }
      ]
    },
    {
      "cell_type": "markdown",
      "id": "1f9faa64",
      "metadata": {
        "papermill": {
          "duration": 0.015503,
          "end_time": "2024-02-19T16:14:15.447736",
          "exception": false,
          "start_time": "2024-02-19T16:14:15.432233",
          "status": "completed"
        },
        "tags": [],
        "id": "1f9faa64"
      },
      "source": [
        "# XGBoost Classifier"
      ]
    },
    {
      "cell_type": "code",
      "execution_count": 21,
      "id": "fd28df21",
      "metadata": {
        "execution": {
          "iopub.execute_input": "2024-02-19T16:14:15.482405Z",
          "iopub.status.busy": "2024-02-19T16:14:15.481961Z",
          "iopub.status.idle": "2024-02-19T16:14:16.645471Z",
          "shell.execute_reply": "2024-02-19T16:14:16.644057Z"
        },
        "papermill": {
          "duration": 1.18432,
          "end_time": "2024-02-19T16:14:16.648202",
          "exception": false,
          "start_time": "2024-02-19T16:14:15.463882",
          "status": "completed"
        },
        "tags": [],
        "colab": {
          "base_uri": "https://localhost:8080/"
        },
        "id": "fd28df21",
        "outputId": "3feb657c-d99b-4636-f60d-dcfd6a451aad"
      },
      "outputs": [
        {
          "output_type": "stream",
          "name": "stdout",
          "text": [
            "Accuracy: 0.9781\n",
            "\n",
            "Classification Report:\n",
            "               precision    recall  f1-score   support\n",
            "\n",
            "      stable       0.97      0.96      0.97      3459\n",
            "    unstable       0.98      0.99      0.98      6258\n",
            "\n",
            "    accuracy                           0.98      9717\n",
            "   macro avg       0.98      0.97      0.98      9717\n",
            "weighted avg       0.98      0.98      0.98      9717\n",
            "\n"
          ]
        }
      ],
      "source": [
        "from xgboost import XGBClassifier\n",
        "\n",
        "\n",
        "xgb_classifier = XGBClassifier(random_state=42)\n",
        "xgb_classifier.fit(X_train, y_train)\n",
        "y_pred_xgb = xgb_classifier.predict(X_test)\n",
        "\n",
        "accuracy_xgb = accuracy_score(y_test, y_pred_xgb)\n",
        "classification_rep_xgb = classification_report(y_test, y_pred_xgb, target_names=le.classes_[:2])\n",
        "\n",
        "print(f\"Accuracy: {accuracy_xgb:.4f}\")\n",
        "print(\"\\nClassification Report:\\n\", classification_rep_xgb)\n"
      ]
    },
    {
      "cell_type": "code",
      "source": [
        "joblib.dump(dt_classifier, 'xgboost.pkl')"
      ],
      "metadata": {
        "colab": {
          "base_uri": "https://localhost:8080/"
        },
        "id": "n7euIcxX-yiM",
        "outputId": "568a6be9-2d6a-4e06-f2ab-8a4e8427b05d"
      },
      "id": "n7euIcxX-yiM",
      "execution_count": 24,
      "outputs": [
        {
          "output_type": "execute_result",
          "data": {
            "text/plain": [
              "['xgboost.pkl']"
            ]
          },
          "metadata": {},
          "execution_count": 24
        }
      ]
    },
    {
      "cell_type": "markdown",
      "id": "59be426c",
      "metadata": {
        "papermill": {
          "duration": 0.015829,
          "end_time": "2024-02-19T16:14:16.679808",
          "exception": false,
          "start_time": "2024-02-19T16:14:16.663979",
          "status": "completed"
        },
        "tags": [],
        "id": "59be426c"
      },
      "source": [
        "**XGBoost:**\n",
        "\n",
        "Demonstrates exceptional performance with the highest accuracy among the models evaluated.\n",
        "Offers superior precision, recall, and F1-scores, highlighting its effectiveness in accurately classifying both 'stable' and 'unstable' states of the smart grid.\n",
        "Its performance underscores XGBoost's capability to handle complex datasets and capture intricate patterns within the data, making it an excellent choice for critical predictive tasks where accuracy is paramount."
      ]
    },
    {
      "cell_type": "markdown",
      "id": "a9aea5fc",
      "metadata": {
        "papermill": {
          "duration": 0.017225,
          "end_time": "2024-02-19T16:14:16.714229",
          "exception": false,
          "start_time": "2024-02-19T16:14:16.697004",
          "status": "completed"
        },
        "tags": [],
        "id": "a9aea5fc"
      },
      "source": [
        "# Report"
      ]
    },
    {
      "cell_type": "code",
      "execution_count": 22,
      "id": "53dd9473",
      "metadata": {
        "execution": {
          "iopub.execute_input": "2024-02-19T16:14:16.749798Z",
          "iopub.status.busy": "2024-02-19T16:14:16.748584Z",
          "iopub.status.idle": "2024-02-19T16:14:16.757099Z",
          "shell.execute_reply": "2024-02-19T16:14:16.755851Z"
        },
        "papermill": {
          "duration": 0.029171,
          "end_time": "2024-02-19T16:14:16.759987",
          "exception": false,
          "start_time": "2024-02-19T16:14:16.730816",
          "status": "completed"
        },
        "tags": [],
        "colab": {
          "base_uri": "https://localhost:8080/"
        },
        "id": "53dd9473",
        "outputId": "2700f055-d48c-4853-8d33-9cf583e2cf74"
      },
      "outputs": [
        {
          "output_type": "stream",
          "name": "stdout",
          "text": [
            "Random Forest Classifier Report:\n",
            "Accuracy: 0.9465\n",
            "\n",
            "Classification Report:\n",
            "               precision    recall  f1-score   support\n",
            "\n",
            "      stable       0.93      0.91      0.92      3459\n",
            "    unstable       0.95      0.96      0.96      6258\n",
            "\n",
            "    accuracy                           0.95      9717\n",
            "   macro avg       0.94      0.94      0.94      9717\n",
            "weighted avg       0.95      0.95      0.95      9717\n",
            "\n",
            "\n",
            "Decision Tree Classifier Report:\n",
            "Accuracy: 0.8925\n",
            "\n",
            "Classification Report:\n",
            "               precision    recall  f1-score   support\n",
            "\n",
            "      stable       0.85      0.85      0.85      3459\n",
            "    unstable       0.92      0.91      0.92      6258\n",
            "\n",
            "    accuracy                           0.89      9717\n",
            "   macro avg       0.88      0.88      0.88      9717\n",
            "weighted avg       0.89      0.89      0.89      9717\n",
            "\n",
            "\n",
            "XGBoost Classifier Report:\n",
            "Accuracy: 0.9781\n",
            "\n",
            "Classification Report:\n",
            "               precision    recall  f1-score   support\n",
            "\n",
            "      stable       0.97      0.96      0.97      3459\n",
            "    unstable       0.98      0.99      0.98      6258\n",
            "\n",
            "    accuracy                           0.98      9717\n",
            "   macro avg       0.98      0.97      0.98      9717\n",
            "weighted avg       0.98      0.98      0.98      9717\n",
            "\n"
          ]
        }
      ],
      "source": [
        "print(\"Random Forest Classifier Report:\")\n",
        "print(f\"Accuracy: {accuracy:.4f}\")\n",
        "print(\"\\nClassification Report:\\n\", classification_rep)\n",
        "\n",
        "print(\"\\nDecision Tree Classifier Report:\")\n",
        "print(f\"Accuracy: {accuracy_dt:.4f}\")\n",
        "print(\"\\nClassification Report:\\n\", classification_rep_dt)\n",
        "\n",
        "\n",
        "\n",
        "print(\"\\nXGBoost Classifier Report:\")\n",
        "print(f\"Accuracy: {accuracy_xgb:.4f}\")\n",
        "print(\"\\nClassification Report:\\n\", classification_rep_xgb)"
      ]
    },
    {
      "cell_type": "markdown",
      "id": "84472dad",
      "metadata": {
        "papermill": {
          "duration": 0.015767,
          "end_time": "2024-02-19T16:14:16.791801",
          "exception": false,
          "start_time": "2024-02-19T16:14:16.776034",
          "status": "completed"
        },
        "tags": [],
        "id": "84472dad"
      },
      "source": [
        "# Comprehensive Comparative Analysis\n",
        "\n",
        "* **XGBoost** and **Random** Forest stand out for their high accuracy and strong performance across both 'stable' and 'unstable' classes, with XGBoost slightly leading in overall metrics.\n",
        "* **Decision Tree** offers a balance between performance and interpretability, making it useful for scenarios where understanding the model's decision-making process is important.\n",
        "* **SVM** shows competitive performance, especially in classifying the 'unstable' class, though it falls short of the ensemble methods in overall accuracy. Its performance reflects SVM's strength in handling complex decision boundaries, even though it may not achieve the highest accuracy in this specific context."
      ]
    },
    {
      "cell_type": "code",
      "source": [],
      "metadata": {
        "id": "gke_0R7ZOaju"
      },
      "id": "gke_0R7ZOaju",
      "execution_count": null,
      "outputs": []
    }
  ],
  "metadata": {
    "kaggle": {
      "accelerator": "none",
      "dataSources": [
        {
          "datasetId": 645187,
          "sourceId": 1143699,
          "sourceType": "datasetVersion"
        }
      ],
      "dockerImageVersionId": 30646,
      "isGpuEnabled": false,
      "isInternetEnabled": false,
      "language": "python",
      "sourceType": "notebook"
    },
    "kernelspec": {
      "display_name": "Python 3 (ipykernel)",
      "language": "python",
      "name": "python3"
    },
    "language_info": {
      "codemirror_mode": {
        "name": "ipython",
        "version": 3
      },
      "file_extension": ".py",
      "mimetype": "text/x-python",
      "name": "python",
      "nbconvert_exporter": "python",
      "pygments_lexer": "ipython3",
      "version": "3.9.12"
    },
    "papermill": {
      "default_parameters": {},
      "duration": 150.748518,
      "end_time": "2024-02-19T16:14:17.631396",
      "environment_variables": {},
      "exception": null,
      "input_path": "__notebook__.ipynb",
      "output_path": "__notebook__.ipynb",
      "parameters": {},
      "start_time": "2024-02-19T16:11:46.882878",
      "version": "2.5.0"
    },
    "colab": {
      "provenance": []
    }
  },
  "nbformat": 4,
  "nbformat_minor": 5
}